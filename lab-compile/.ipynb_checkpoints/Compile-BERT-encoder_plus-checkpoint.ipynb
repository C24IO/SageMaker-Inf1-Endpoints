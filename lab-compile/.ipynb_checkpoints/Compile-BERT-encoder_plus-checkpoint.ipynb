{
 "cells": [
  {
   "cell_type": "code",
   "execution_count": null,
   "metadata": {
    "scrolled": true
   },
   "outputs": [],
   "source": [
    "import sys\n",
    "\n",
    "!{sys.executable} -m pip install --user --upgrade --force-reinstall --no-cache-dir 'numpy<=1.18.2,>=1.13.3' torch 'neuron-cc[tensorflow]>=1.0.16861.0' torch-neuron torch-neuron-base transformers==2.5.1 --extra-index-url=https://pip.repos.neuron.amazonaws.com\n",
    "    "
   ]
  },
  {
   "cell_type": "code",
   "execution_count": null,
   "metadata": {},
   "outputs": [],
   "source": [
    "import torch\n",
    "import torch_neuron\n",
    "import transformers\n",
    "from transformers import BertTokenizer\n",
    "from transformers import BertModel\n",
    "import math\n",
    "from transformers import AutoTokenizer, AutoModelForSequenceClassification\n",
    "\n",
    "sentence1=\"If you set your goals ridiculously high and it's a failure, you will fail above everyone else's success.\"\n",
    "sentence2=\"The greatest glory in living lies not in never falling, but in rising every time we fall.\"\n",
    "sentence3=\"If you set your goals ridiculously high and it's a failure, you will fail above everyone else's success. If you set your goals ridiculously high and it's a failure, you will fail above everyone else's success. If you set your goals ridiculously high and it's a failure, you will fail above everyone else's success.\"\n",
    "\n",
    "tokenizer = AutoTokenizer.from_pretrained('bert-base-uncased')\n",
    "model = BertModel.from_pretrained('bert-base-uncased')\n",
    "\n",
    "cos = torch.nn.CosineSimilarity()\n",
    "\n",
    "encoded_sentence = tokenizer.encode_plus(sentence1, sentence3, max_length=128, pad_to_max_length=True, return_tensors=\"pt\")\n",
    "outputs = model(encoded_sentence['input_ids'])\n",
    "s1 = outputs[1]  # The last hidden-state is the first element of the output tuple\n",
    "\n",
    "encoded_sentence = tokenizer.encode_plus(sentence2, sentence3, max_length=128, pad_to_max_length=True, return_tensors=\"pt\")\n",
    "outputs = model(encoded_sentence['input_ids'])\n",
    "s2 = outputs[1]  # The last hidden-state is the first element of the output tuple\n",
    "        \n",
    "cos_sim = cos(s1,s2)\n",
    "cosine_measure = cos_sim[0].item()\n",
    "angle_in_radians = math.acos(cosine_measure)\n",
    "print(math.degrees(angle_in_radians))"
   ]
  },
  {
   "cell_type": "code",
   "execution_count": null,
   "metadata": {},
   "outputs": [],
   "source": [
    "#encoded_sentence['input_ids'].size()"
   ]
  },
  {
   "cell_type": "code",
   "execution_count": null,
   "metadata": {},
   "outputs": [],
   "source": [
    "#outputs[1].size()"
   ]
  },
  {
   "cell_type": "code",
   "execution_count": null,
   "metadata": {},
   "outputs": [],
   "source": [
    "example_inputs = encoded_sentence['input_ids'], encoded_sentence['attention_mask'], encoded_sentence['token_type_ids']\n",
    "model_neuron = torch.neuron.trace(model, example_inputs, compiler_args=['-O2'], verbose=1, compiler_workdir='./compile')"
   ]
  },
  {
   "cell_type": "code",
   "execution_count": null,
   "metadata": {
    "scrolled": true
   },
   "outputs": [],
   "source": [
    "%%timeit\n",
    "\n",
    "sentence1=\"If you set your goals ridiculously high and it's a failure, you will fail above everyone else's success.\"\n",
    "sentence2=\"The greatest glory in living lies not in never falling, but in rising every time we fall.\"\n",
    "sentence3=\"If you set your goals ridiculously high and it's a failure, you will fail above everyone else's success. If you set your goals ridiculously high and it's a failure, you will fail above everyone else's success. If you set your goals ridiculously high and it's a failure, you will fail above everyone else's success.\"\n",
    "\n",
    "encoded_sentence = tokenizer.encode_plus(sentence1, sentence3, max_length=128, pad_to_max_length=True, return_tensors=\"pt\")\n",
    "input_statement = encoded_sentence['input_ids'], encoded_sentence['attention_mask'], encoded_sentence['token_type_ids']\n",
    "outputs = model_neuron(*input_statement)\n",
    "s1 = outputs[1]  # The last hidden-state is the first element of the output tuple\n",
    "\n",
    "encoded_sentence = tokenizer.encode_plus(sentence2, sentence3, max_length=128, pad_to_max_length=True, return_tensors=\"pt\")\n",
    "input_statement = encoded_sentence['input_ids'], encoded_sentence['attention_mask'], encoded_sentence['token_type_ids']\n",
    "outputs = model_neuron(*input_statement)\n",
    "s2 = outputs[1]  # The last hidden-state is the first element of the output tuple\n",
    "        \n",
    "cos_sim = cos(s1,s2)\n",
    "cosine_measure = cos_sim[0].item()\n",
    "angle_in_radians = math.acos(cosine_measure)\n",
    "print(math.degrees(angle_in_radians))"
   ]
  },
  {
   "cell_type": "code",
   "execution_count": null,
   "metadata": {
    "scrolled": true
   },
   "outputs": [],
   "source": [
    "%%time\n",
    "\n",
    "sentence1=\"If you set your goals ridiculously high and it's a failure, you will fail above everyone else's success.\"\n",
    "sentence2=\"The greatest glory in living lies not in never falling, but in rising every time we fall.\"\n",
    "sentence3=\"If you set your goals ridiculously high and it's a failure, you will fail above everyone else's success. If you set your goals ridiculously high and it's a failure, you will fail above everyone else's success. If you set your goals ridiculously high and it's a failure, you will fail above everyone else's success.\"\n",
    "\n",
    "encoded_sentence = tokenizer.encode_plus(sentence1, sentence3, max_length=128, pad_to_max_length=True, return_tensors=\"pt\")\n",
    "outputs = model(encoded_sentence['input_ids'])\n",
    "s1 = outputs[1]  # The last hidden-state is the first element of the output tuple\n",
    "\n",
    "encoded_sentence = tokenizer.encode_plus(sentence2, sentence3, max_length=128, pad_to_max_length=True, return_tensors=\"pt\")\n",
    "outputs = model(encoded_sentence['input_ids'])\n",
    "s2 = outputs[1]  # The last hidden-state is the first element of the output tuple\n",
    "        \n",
    "cos_sim = cos(s1,s2)\n",
    "cosine_measure = cos_sim[0].item()\n",
    "angle_in_radians = math.acos(cosine_measure)\n",
    "print(math.degrees(angle_in_radians))"
   ]
  },
  {
   "cell_type": "code",
   "execution_count": null,
   "metadata": {},
   "outputs": [],
   "source": [
    "model_neuron.save('neuron_compiled_1_model.pt')"
   ]
  },
  {
   "cell_type": "code",
   "execution_count": null,
   "metadata": {},
   "outputs": [],
   "source": [
    "!ls -alh"
   ]
  },
  {
   "cell_type": "code",
   "execution_count": null,
   "metadata": {},
   "outputs": [],
   "source": [
    "model_again = torch.jit.load('neuron_compiled_1_model.pt')"
   ]
  },
  {
   "cell_type": "code",
   "execution_count": null,
   "metadata": {
    "scrolled": true
   },
   "outputs": [],
   "source": [
    "%%time\n",
    "\n",
    "sentence1=\"If you set your goals ridiculously high and it's a failure, you will fail above everyone else's success.\"\n",
    "sentence2=\"The greatest glory in living lies not in never falling, but in rising every time we fall.\"\n",
    "sentence3=\"If you set your goals ridiculously high and it's a failure, you will fail above everyone else's success. If you set your goals ridiculously high and it's a failure, you will fail above everyone else's success. If you set your goals ridiculously high and it's a failure, you will fail above everyone else's success.\"\n",
    "\n",
    "encoded_sentence = tokenizer.encode_plus(sentence1, sentence3, max_length=128, pad_to_max_length=True, return_tensors=\"pt\")\n",
    "input_statement = encoded_sentence['input_ids'], encoded_sentence['attention_mask'], encoded_sentence['token_type_ids']\n",
    "outputs = model_again(*input_statement)\n",
    "s1 = outputs[1]  # The last hidden-state is the first element of the output tuple\n",
    "\n",
    "encoded_sentence = tokenizer.encode_plus(sentence2, sentence3, max_length=128, pad_to_max_length=True, return_tensors=\"pt\")\n",
    "input_statement = encoded_sentence['input_ids'], encoded_sentence['attention_mask'], encoded_sentence['token_type_ids']\n",
    "outputs = model_again(*input_statement)\n",
    "s2 = outputs[1]  # The last hidden-state is the first element of the output tuple\n",
    "        \n",
    "cos_sim = cos(s1,s2)\n",
    "cosine_measure = cos_sim[0].item()\n",
    "angle_in_radians = math.acos(cosine_measure)\n",
    "print(math.degrees(angle_in_radians))"
   ]
  },
  {
   "cell_type": "code",
   "execution_count": null,
   "metadata": {},
   "outputs": [],
   "source": [
    "#!tar -czvf model.tar.gz neuron_compiled_1_model.pt"
   ]
  },
  {
   "cell_type": "code",
   "execution_count": null,
   "metadata": {},
   "outputs": [],
   "source": [
    "#!aws s3 cp model.tar.gz s3://inf1-compiled-model/"
   ]
  }
 ],
 "metadata": {
  "kernelspec": {
   "display_name": "conda_amazonei_mxnet_p27",
   "language": "python",
   "name": "conda_amazonei_mxnet_p27"
  },
  "language_info": {
   "codemirror_mode": {
    "name": "ipython",
    "version": 2
   },
   "file_extension": ".py",
   "mimetype": "text/x-python",
   "name": "python",
   "nbconvert_exporter": "python",
   "pygments_lexer": "ipython2",
   "version": "2.7.17"
  }
 },
 "nbformat": 4,
 "nbformat_minor": 4
}
